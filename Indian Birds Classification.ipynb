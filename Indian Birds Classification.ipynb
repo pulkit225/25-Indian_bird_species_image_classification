{
 "cells": [
  {
   "cell_type": "code",
   "execution_count": 1,
   "id": "3d0dbb8b",
   "metadata": {},
   "outputs": [],
   "source": [
    "import numpy as np\n",
    "import pandas as pd\n",
    "import matplotlib.pyplot as plt\n",
    "import cv2\n",
    "\n",
    "import tensorflow as tf\n",
    "from tensorflow.keras.preprocessing.image import ImageDataGenerator\n",
    "from tensorflow.keras.models import Sequential\n",
    "from tensorflow.keras.layers import Dense, Conv2D, MaxPool2D, Dropout, Flatten\n",
    "from tensorflow.keras.callbacks import EarlyStopping\n",
    "\n",
    "from sklearn.metrics import confusion_matrix, classification_report\n",
    "\n",
    "import os"
   ]
  },
  {
   "cell_type": "code",
   "execution_count": 2,
   "id": "f7ada9ec",
   "metadata": {},
   "outputs": [
    {
     "data": {
      "text/plain": [
       "[PhysicalDevice(name='/physical_device:CPU:0', device_type='CPU'),\n",
       " PhysicalDevice(name='/physical_device:GPU:0', device_type='GPU')]"
      ]
     },
     "execution_count": 2,
     "metadata": {},
     "output_type": "execute_result"
    }
   ],
   "source": [
    "tf.config.list_physical_devices(\n",
    "    device_type=None\n",
    ")"
   ]
  },
  {
   "cell_type": "code",
   "execution_count": 3,
   "id": "092f4a96",
   "metadata": {},
   "outputs": [],
   "source": [
    "dataset_path = \"../DataSet/Indian Bird Species (25 Classes)/\""
   ]
  },
  {
   "cell_type": "code",
   "execution_count": 4,
   "id": "e040bd25",
   "metadata": {},
   "outputs": [
    {
     "data": {
      "text/plain": [
       "['Asian Green Bee-Eater',\n",
       " 'Brown-Headed Barbet',\n",
       " 'Cattle Egret',\n",
       " 'Common Kingfisher',\n",
       " 'Common Myna',\n",
       " 'Common Rosefinch',\n",
       " 'Common Tailorbird',\n",
       " 'Coppersmith Barbet',\n",
       " 'Forest Wagtail',\n",
       " 'Gray Wagtail',\n",
       " 'Hoopoe',\n",
       " 'House Crow',\n",
       " 'Indian Grey Hornbill',\n",
       " 'Indian Peacock',\n",
       " 'Indian Pitta',\n",
       " 'Indian Roller',\n",
       " 'Jungle Babbler',\n",
       " 'Northern Lapwing',\n",
       " 'Red-Wattled Lapwing',\n",
       " 'Ruddy Shelduck',\n",
       " 'Rufous Treepie',\n",
       " 'Sarus Crane',\n",
       " 'White Wagtail',\n",
       " 'White-Breasted Kingfisher',\n",
       " 'White-Breasted Waterhen']"
      ]
     },
     "execution_count": 4,
     "metadata": {},
     "output_type": "execute_result"
    }
   ],
   "source": [
    "os.listdir(dataset_path)"
   ]
  },
  {
   "cell_type": "code",
   "execution_count": null,
   "id": "21d2bb94",
   "metadata": {},
   "outputs": [],
   "source": [
    "datagen = ImageDataGenerator(rescale= 1./255., validation_split = 0.10, rotation_range = 15, width_shift_range=0.1, height_shift_range=0.1, shear_range=0.1, zoom_range=0.1, horizontal_flip=True, fill_mode = 'nearest')\n",
    "train_set = datagen.flow_from_directory(directory = dataset_path, class_mode = 'categorical', target_size=(720, 480), color_mode=\"rgb\", subset = 'training', batch_size = 4)\n",
    "validation_set = datagen.flow_from_directory(directory = dataset_path, class_mode = 'categorical', target_size=(720, 480), color_mode=\"rgb\", subset = 'validation', batch_size = 4)"
   ]
  },
  {
   "cell_type": "code",
   "execution_count": null,
   "id": "f30443fe",
   "metadata": {},
   "outputs": [],
   "source": [
    "image_shape = (720, 480, 3)"
   ]
  },
  {
   "cell_type": "code",
   "execution_count": null,
   "id": "a1fa0197",
   "metadata": {},
   "outputs": [],
   "source": [
    "resnet_model = Sequential()\n",
    "\n",
    "pretrained_model= tf.keras.applications.ResNet50(include_top=False,\n",
    "                   input_shape=image_shape,\n",
    "                   pooling='max',classes=25,\n",
    "                   weights='imagenet')\n",
    "for layer in pretrained_model.layers:\n",
    "        layer.trainable=False\n",
    "\n",
    "resnet_model.add(pretrained_model)\n",
    "\n",
    "resnet_model.add(Flatten())\n",
    "resnet_model.add(Dense(128, activation='relu'))\n",
    "resnet_model.add(Dense(25, activation='softmax'))\n",
    "\n",
    "resnet_model.compile(loss='categorical_crossentropy',\n",
    "              optimizer='rmsprop',\n",
    "              metrics=['accuracy'])"
   ]
  },
  {
   "cell_type": "code",
   "execution_count": null,
   "id": "cfb40d72",
   "metadata": {},
   "outputs": [],
   "source": [
    "resnet_model.summary()"
   ]
  },
  {
   "cell_type": "code",
   "execution_count": null,
   "id": "f2808a07",
   "metadata": {},
   "outputs": [],
   "source": [
    "early_stop = EarlyStopping(monitor='val_loss', patience=12)"
   ]
  },
  {
   "cell_type": "code",
   "execution_count": null,
   "id": "6c8469c2",
   "metadata": {},
   "outputs": [],
   "source": [
    "resnet_model.fit(train_set, epochs=60, validation_data=validation_set, callbacks=[early_stop])"
   ]
  },
  {
   "cell_type": "code",
   "execution_count": null,
   "id": "f75021d4",
   "metadata": {},
   "outputs": [],
   "source": [
    "history = pd.DataFrame(resnet_model.history.history)"
   ]
  },
  {
   "cell_type": "code",
   "execution_count": null,
   "id": "02073d57",
   "metadata": {},
   "outputs": [],
   "source": [
    "history[[\"loss\", \"val_loss\"]].plot()\n",
    "plt.xlabel(\"Number of Epochs\")\n",
    "plt.ylabel(\"Loss\")\n",
    "plt.title(\"Loss vs Epochs\")\n",
    "plt.show()"
   ]
  },
  {
   "cell_type": "code",
   "execution_count": null,
   "id": "2c8adee7",
   "metadata": {},
   "outputs": [],
   "source": [
    "history[['accuracy', 'val_accuracy']].plot()\n",
    "plt.xlabel(\"Number of Epochs\")\n",
    "plt.ylabel(\"Accuracy\")\n",
    "plt.title(\"Accuracy vs Epochs\")\n",
    "plt.show()"
   ]
  },
  {
   "cell_type": "code",
   "execution_count": null,
   "id": "8ef174ff",
   "metadata": {},
   "outputs": [],
   "source": [
    "predictions = resnet_model.predict(validation_set)"
   ]
  },
  {
   "cell_type": "code",
   "execution_count": null,
   "id": "25c714ce",
   "metadata": {},
   "outputs": [],
   "source": [
    "predictions = np.argmax(predictions, axis=1)"
   ]
  },
  {
   "cell_type": "code",
   "execution_count": null,
   "id": "3e464b7d",
   "metadata": {},
   "outputs": [],
   "source": [
    "print(classification_report(validation_set.classes, predictions))"
   ]
  },
  {
   "cell_type": "code",
   "execution_count": null,
   "id": "fde0eff4",
   "metadata": {},
   "outputs": [],
   "source": [
    "confusion_matrix(validation_set.classes, predictions)"
   ]
  },
  {
   "cell_type": "code",
   "execution_count": null,
   "id": "59d2f69a",
   "metadata": {},
   "outputs": [],
   "source": [
    "resnet_model.save(\"IndianBirdsClassificationModel.h5\")"
   ]
  }
 ],
 "metadata": {
  "kernelspec": {
   "display_name": "Python 3 (ipykernel)",
   "language": "python",
   "name": "python3"
  },
  "language_info": {
   "codemirror_mode": {
    "name": "ipython",
    "version": 3
   },
   "file_extension": ".py",
   "mimetype": "text/x-python",
   "name": "python",
   "nbconvert_exporter": "python",
   "pygments_lexer": "ipython3",
   "version": "3.9.13"
  }
 },
 "nbformat": 4,
 "nbformat_minor": 5
}
